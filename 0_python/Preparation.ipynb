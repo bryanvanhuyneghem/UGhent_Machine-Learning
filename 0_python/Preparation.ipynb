{
 "cells": [
  {
   "cell_type": "markdown",
   "metadata": {},
   "source": [
    "# Lab 0: Preparation: Introduction to Numpy, Matplotlib and Pandas\n",
    "In the next sessions we will implement our own machine learning algorithms in Python. Each lab will have a **Jupyter Notebook** with some theoretical background and an assignment. We will rely on different python libraries to make our work easier. Use this preparation to make sure everything is installed correctly and to become familiar with the tools since we will not have time to do this in the lab sessions. \n",
    "- **Python**: Python is arguably the most common language for datascience/ machine learning development. See https://www.stavros.io/tutorials/python/ if you are not familiar with python.\n",
    "- **Jupyter Notebooks**: provide an interactive way to develop python code. See https://realpython.com/jupyter-notebook-introduction/ if you are not familiar with Notebooks.\n",
    "- **Numpy**: NumPy is a Python library that supports large, multi-dimensional arrays and matrices. It provides a large collection of high-level mathematical functions to operate on these arrays. See http://cs231n.github.io/python-numpy-tutorial/ if you are not familiar with Numpy.\n",
    "- **Pandas**: provides functionality for exploratory data analysis. It is especially useful if the data is stored in tabular format. See https://www.learndatasci.com/tutorials/python-pandas-tutorial-complete-introduction-for-beginners/ or https://pandas.pydata.org/pandas-docs/stable/getting_started/10min.html if you are not familiar with Pandas.\n",
    "- **Matplotlib** and **Seaborn**: We will use these to plot data and graphs. You can find a lot of examples here: https://seaborn.pydata.org/examples/index.html\n",
    "\n",
    "You can also find a good introduction to each of these tools here: https://jakevdp.github.io/PythonDataScienceHandbook/"
   ]
  },
  {
   "cell_type": "code",
   "execution_count": 1,
   "metadata": {},
   "outputs": [],
   "source": [
    "import numpy as np\n",
    "import pandas as pd\n",
    "from matplotlib import pyplot as plt\n",
    "import seaborn as sns"
   ]
  },
  {
   "cell_type": "markdown",
   "metadata": {},
   "source": [
    "## Pandas\n",
    "The file \"data.csv\" contains historical data about the average wage for different job categories. This is publicly available at https://data.gov.be/en/node/27158.\n",
    "Explore this data and answer the following questions:\n",
    "- Which jobs earn the most/ the least ?\n",
    "- Visualize the distribution of the wages for each year.\n",
    "- Which jobs have seen the highest increase in wage ?\n",
    "- What was the average increase in wage for each year ?"
   ]
  },
  {
   "cell_type": "code",
   "execution_count": 2,
   "metadata": {},
   "outputs": [],
   "source": [
    "data = pd.read_csv(\"data.csv\")"
   ]
  },
  {
   "cell_type": "code",
   "execution_count": 3,
   "metadata": {},
   "outputs": [
    {
     "data": {
      "text/html": [
       "<div>\n",
       "<style scoped>\n",
       "    .dataframe tbody tr th:only-of-type {\n",
       "        vertical-align: middle;\n",
       "    }\n",
       "\n",
       "    .dataframe tbody tr th {\n",
       "        vertical-align: top;\n",
       "    }\n",
       "\n",
       "    .dataframe thead th {\n",
       "        text-align: right;\n",
       "    }\n",
       "</style>\n",
       "<table border=\"1\" class=\"dataframe\">\n",
       "  <thead>\n",
       "    <tr style=\"text-align: right;\">\n",
       "      <th></th>\n",
       "      <th>Beroep</th>\n",
       "      <th>2009</th>\n",
       "      <th>2010</th>\n",
       "      <th>2011</th>\n",
       "      <th>2012</th>\n",
       "      <th>2013</th>\n",
       "      <th>2014</th>\n",
       "      <th>2015</th>\n",
       "      <th>2016</th>\n",
       "      <th>2017</th>\n",
       "    </tr>\n",
       "  </thead>\n",
       "  <tbody>\n",
       "    <tr>\n",
       "      <th>0</th>\n",
       "      <td>Directeurs van grote ondernemingen</td>\n",
       "      <td>8214</td>\n",
       "      <td>8329</td>\n",
       "      <td>8610</td>\n",
       "      <td>8948</td>\n",
       "      <td>9018</td>\n",
       "      <td>9253</td>\n",
       "      <td>9285</td>\n",
       "      <td>9578</td>\n",
       "      <td>10124</td>\n",
       "    </tr>\n",
       "    <tr>\n",
       "      <th>1</th>\n",
       "      <td>Managers op het gebied van zakelijke dienstver...</td>\n",
       "      <td>6313</td>\n",
       "      <td>6357</td>\n",
       "      <td>6527</td>\n",
       "      <td>6623</td>\n",
       "      <td>6658</td>\n",
       "      <td>6734</td>\n",
       "      <td>6756</td>\n",
       "      <td>6953</td>\n",
       "      <td>7352</td>\n",
       "    </tr>\n",
       "    <tr>\n",
       "      <th>2</th>\n",
       "      <td>Managers op het gebied van verkoop, marketing,...</td>\n",
       "      <td>5574</td>\n",
       "      <td>5665</td>\n",
       "      <td>5841</td>\n",
       "      <td>6037</td>\n",
       "      <td>6091</td>\n",
       "      <td>6228</td>\n",
       "      <td>6247</td>\n",
       "      <td>6439</td>\n",
       "      <td>6806</td>\n",
       "    </tr>\n",
       "    <tr>\n",
       "      <th>3</th>\n",
       "      <td>Managers in de industrie, de delfstoffenwinnin...</td>\n",
       "      <td>5463</td>\n",
       "      <td>5541</td>\n",
       "      <td>5702</td>\n",
       "      <td>5898</td>\n",
       "      <td>5955</td>\n",
       "      <td>6069</td>\n",
       "      <td>6089</td>\n",
       "      <td>6282</td>\n",
       "      <td>6640</td>\n",
       "    </tr>\n",
       "    <tr>\n",
       "      <th>4</th>\n",
       "      <td>Managers op het gebied van informatie en commu...</td>\n",
       "      <td>6529</td>\n",
       "      <td>6573</td>\n",
       "      <td>6725</td>\n",
       "      <td>6821</td>\n",
       "      <td>6863</td>\n",
       "      <td>6925</td>\n",
       "      <td>6940</td>\n",
       "      <td>7160</td>\n",
       "      <td>7566</td>\n",
       "    </tr>\n",
       "  </tbody>\n",
       "</table>\n",
       "</div>"
      ],
      "text/plain": [
       "                                              Beroep  2009  2010  2011  2012  \\\n",
       "0                 Directeurs van grote ondernemingen  8214  8329  8610  8948   \n",
       "1  Managers op het gebied van zakelijke dienstver...  6313  6357  6527  6623   \n",
       "2  Managers op het gebied van verkoop, marketing,...  5574  5665  5841  6037   \n",
       "3  Managers in de industrie, de delfstoffenwinnin...  5463  5541  5702  5898   \n",
       "4  Managers op het gebied van informatie en commu...  6529  6573  6725  6821   \n",
       "\n",
       "   2013  2014  2015  2016   2017  \n",
       "0  9018  9253  9285  9578  10124  \n",
       "1  6658  6734  6756  6953   7352  \n",
       "2  6091  6228  6247  6439   6806  \n",
       "3  5955  6069  6089  6282   6640  \n",
       "4  6863  6925  6940  7160   7566  "
      ]
     },
     "execution_count": 3,
     "metadata": {},
     "output_type": "execute_result"
    }
   ],
   "source": [
    "data.head()"
   ]
  },
  {
   "cell_type": "markdown",
   "metadata": {},
   "source": [
    "## Numpy\n",
    "The Mandelbrot set is the set of complex numbers $c = a+bj$ for which the function $f_{c}(z)=z^{2}+c$ does not diverge when iterated from $z=0$.\n",
    "The code below implements this naively using three nested for loops. Implement the same functionality in Numpy. Numpy allows you to calculate the result for every point at the same time. How much faster is this parallel implementation ?"
   ]
  },
  {
   "cell_type": "code",
   "execution_count": 11,
   "metadata": {},
   "outputs": [
    {
     "name": "stdout",
     "output_type": "stream",
     "text": [
      "1.101636494000104\n"
     ]
    },
    {
     "data": {
      "text/plain": [
       "<matplotlib.image.AxesImage at 0x7f6c2bcb1a90>"
      ]
     },
     "execution_count": 11,
     "metadata": {},
     "output_type": "execute_result"
    },
    {
     "data": {
      "image/png": "[encoded data removed]",
      "text/plain": [
       "<Figure size 288x288 with 1 Axes>"
      ]
     },
     "metadata": {
      "needs_background": "light"
     },
     "output_type": "display_data"
    }
   ],
   "source": [
    "from timeit import default_timer as timer\n",
    "\n",
    "a_min = -2.5\n",
    "a_max = 1\n",
    "b_min = -1.5\n",
    "b_max = 1.5\n",
    "\n",
    "start = timer()\n",
    "frame = []\n",
    "for y in range(100):\n",
    "    row = []\n",
    "    for x in range(100):\n",
    "        a = a_min + (a_max - a_min)*x/100\n",
    "        b = b_min + (b_max - b_min)*y/100\n",
    "        c = a + b*1j\n",
    "        \n",
    "        z = 0\n",
    "        for _ in range(1000):\n",
    "            z = z*z + c\n",
    "            \n",
    "        row.append(abs(z) < 2)\n",
    "    frame.append(row)\n",
    "        \n",
    "end = timer()\n",
    "print(end - start)\n",
    "\n",
    "plt.matshow(frame, cmap=\"gray\")"
   ]
  }
 ],
 "metadata": {
  "kernelspec": {
   "display_name": "Python 3",
   "language": "python",
   "name": "python3"
  },
  "language_info": {
   "codemirror_mode": {
    "name": "ipython",
    "version": 3
   },
   "file_extension": ".py",
   "mimetype": "text/x-python",
   "name": "python",
   "nbconvert_exporter": "python",
   "pygments_lexer": "ipython3",
   "version": "3.6.8"
  }
 },
 "nbformat": 4,
 "nbformat_minor": 4
}
